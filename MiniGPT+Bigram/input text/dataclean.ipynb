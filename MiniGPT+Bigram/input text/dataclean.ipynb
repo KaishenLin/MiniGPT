{
 "cells": [
  {
   "cell_type": "code",
   "execution_count": 4,
   "metadata": {},
   "outputs": [],
   "source": [
    "import os\n",
    "\n",
    "def remove_suffix(file_path):\n",
    "    with open(file_path, 'r', encoding='utf-8') as file:\n",
    "        lines = file.readlines()\n",
    "\n",
    "    # Remove the \",,1\" or \",,0\" at the end of each line\n",
    "    lines = [line.rstrip(',,1').rstrip(',,0') for line in lines]\n",
    "\n",
    "    # Get the desktop path\n",
    "    desktop_path = os.path.join(os.path.join(os.environ['USERPROFILE']), 'Desktop')\n",
    "    \n",
    "    # Original file name\n",
    "    file_name = os.path.basename(file_path)\n",
    "    \n",
    "    # Construct a new file name based on the file content\n",
    "    new_file_name = file_name.replace('.txt', '_cleaned.txt')\n",
    "\n",
    "    # Construct the path to save the file\n",
    "    new_file_path = os.path.join(desktop_path, new_file_name)\n",
    "\n",
    "    with open(new_file_path, 'w', encoding='utf-8') as file:\n",
    "        file.writelines(lines)\n"
   ]
  },
  {
   "cell_type": "code",
   "execution_count": 5,
   "metadata": {},
   "outputs": [],
   "source": [
    "def remove_suffix(file_path):\n",
    "    \"\"\"\n",
    "    Removes the file suffix from the given file path.\n",
    "\n",
    "    Args:\n",
    "        file_path (str): The file path to remove the suffix from.\n",
    "\n",
    "    Returns:\n",
    "        str: The file path without the suffix.\n",
    "    \"\"\"\n",
    "    return file_path.rsplit('.', 1)[0]\n",
    "file_path = r'C:\\Users\\79003\\Desktop\\goods_zh.txt'\n",
    "remove_suffix(file_path)"
   ]
  },
  {
   "cell_type": "code",
   "execution_count": null,
   "metadata": {},
   "outputs": [],
   "source": []
  }
 ],
 "metadata": {
  "kernelspec": {
   "display_name": "bayesianproject",
   "language": "python",
   "name": "python3"
  },
  "language_info": {
   "codemirror_mode": {
    "name": "ipython",
    "version": 3
   },
   "file_extension": ".py",
   "mimetype": "text/x-python",
   "name": "python",
   "nbconvert_exporter": "python",
   "pygments_lexer": "ipython3",
   "version": "3.12.2"
  }
 },
 "nbformat": 4,
 "nbformat_minor": 2
}
